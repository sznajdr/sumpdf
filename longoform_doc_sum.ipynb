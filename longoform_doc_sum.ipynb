{
  "cells": [
    {
      "cell_type": "markdown",
      "metadata": {
        "id": "view-in-github",
        "colab_type": "text"
      },
      "source": [
        "<a href=\"https://colab.research.google.com/github/sznajdr/sumpdf/blob/main/longoform_doc_sum.ipynb\" target=\"_parent\"><img src=\"https://colab.research.google.com/assets/colab-badge.svg\" alt=\"Open In Colab\"/></a>"
      ]
    },
    {
      "cell_type": "markdown",
      "source": [
        "# example - long-t5-tglobal-base-16384-book-summary\n",
        "\n",
        "Link to model card: [pszemraj/long-t5-tglobal-base-16384-book-summary](https://huggingface.co/pszemraj/long-t5-tglobal-base-16384-book-summary)\n",
        "\n",
        "\n",
        "by [Peter](https://github.com/pszemraj)\n",
        "\n",
        "\n",
        "---\n"
      ],
      "metadata": {
        "id": "2RCmfFX2aT0w"
      }
    },
    {
      "cell_type": "code",
      "execution_count": null,
      "metadata": {
        "cellView": "form",
        "id": "wUmDGP-GoL9Y"
      },
      "outputs": [],
      "source": [
        "%%capture\n",
        "#@markdown set up auto-formatting of cells in notebook\n",
        "\n",
        "from IPython.display import HTML, display\n",
        "\n",
        "\n",
        "def set_css():\n",
        "    display(\n",
        "        HTML(\n",
        "            \"\"\"\n",
        "  <style>\n",
        "    pre {\n",
        "        white-space: pre-wrap;\n",
        "    }\n",
        "  </style>\n",
        "  \"\"\"\n",
        "        )\n",
        "    )\n",
        "get_ipython().events.register(\"pre_run_cell\", set_css)"
      ]
    },
    {
      "cell_type": "code",
      "execution_count": null,
      "metadata": {
        "cellView": "form",
        "colab": {
          "base_uri": "https://localhost:8080/",
          "height": 364
        },
        "id": "JH0JtdCeE1n2",
        "outputId": "bb0fe210-24cc-4357-9679-11ee26a10cea"
      },
      "outputs": [
        {
          "output_type": "display_data",
          "data": {
            "text/plain": [
              "<IPython.core.display.HTML object>"
            ],
            "text/html": [
              "\n",
              "  <style>\n",
              "    pre {\n",
              "        white-space: pre-wrap;\n",
              "    }\n",
              "  </style>\n",
              "  "
            ]
          },
          "metadata": {}
        },
        {
          "output_type": "stream",
          "name": "stdout",
          "text": [
            "Sat Mar 18 12:02:24 2023       \n",
            "+-----------------------------------------------------------------------------+\n",
            "| NVIDIA-SMI 525.85.12    Driver Version: 525.85.12    CUDA Version: 12.0     |\n",
            "|-------------------------------+----------------------+----------------------+\n",
            "| GPU  Name        Persistence-M| Bus-Id        Disp.A | Volatile Uncorr. ECC |\n",
            "| Fan  Temp  Perf  Pwr:Usage/Cap|         Memory-Usage | GPU-Util  Compute M. |\n",
            "|                               |                      |               MIG M. |\n",
            "|===============================+======================+======================|\n",
            "|   0  Tesla T4            Off  | 00000000:00:04.0 Off |                    0 |\n",
            "| N/A   62C    P0    31W /  70W |      0MiB / 15360MiB |      0%      Default |\n",
            "|                               |                      |                  N/A |\n",
            "+-------------------------------+----------------------+----------------------+\n",
            "                                                                               \n",
            "+-----------------------------------------------------------------------------+\n",
            "| Processes:                                                                  |\n",
            "|  GPU   GI   CI        PID   Type   Process name                  GPU Memory |\n",
            "|        ID   ID                                                   Usage      |\n",
            "|=============================================================================|\n",
            "|  No running processes found                                                 |\n",
            "+-----------------------------------------------------------------------------+\n"
          ]
        }
      ],
      "source": [
        "#@markdown GPU stats\n",
        "!nvidia-smi"
      ]
    },
    {
      "cell_type": "code",
      "source": [
        "!pip install -U -q transformers"
      ],
      "metadata": {
        "id": "lRrXShlbaVTD"
      },
      "execution_count": null,
      "outputs": []
    },
    {
      "cell_type": "code",
      "execution_count": null,
      "metadata": {
        "cellView": "form",
        "id": "LqlTo9g7tPLd",
        "colab": {
          "base_uri": "https://localhost:8080/",
          "height": 17
        },
        "outputId": "54d84630-6c9e-4e81-8b4b-64a78be3bc72"
      },
      "outputs": [
        {
          "output_type": "display_data",
          "data": {
            "text/plain": [
              "<IPython.core.display.HTML object>"
            ],
            "text/html": [
              "\n",
              "  <style>\n",
              "    pre {\n",
              "        white-space: pre-wrap;\n",
              "    }\n",
              "  </style>\n",
              "  "
            ]
          },
          "metadata": {}
        }
      ],
      "source": [
        "#@markdown utils\n",
        "from transformers.utils.logging import set_verbosity\n",
        "\n",
        "set_verbosity(40)\n",
        "\n",
        "import warnings\n",
        "# ignore hf pipeline complaints\n",
        "warnings.filterwarnings(\"ignore\", category=UserWarning, module='transformers')\n",
        "warnings.filterwarnings(\"ignore\", category=FutureWarning, module='transformers')"
      ]
    },
    {
      "cell_type": "code",
      "execution_count": null,
      "metadata": {
        "id": "lIYdn1woOS1n",
        "cellView": "form"
      },
      "outputs": [],
      "source": [
        "example_url = \"https://pastebin.com/MJRSa9tY\" #@param {type:\"string\"}\n",
        "filename = 'example.txt'\n",
        "!wget -O $filename $example_url"
      ]
    },
    {
      "cell_type": "markdown",
      "source": [
        "load example"
      ],
      "metadata": {
        "id": "cRWWG06rbX7K"
      }
    },
    {
      "cell_type": "code",
      "source": [
        "#@markdown read in text\n",
        "import pprint as pp\n",
        "with open(filename, 'r', encoding='utf-8', errors='ignore') as f:\n",
        "    long_text = f.read()\n",
        "\n",
        "print(long_text[:1500])\n",
        "print(\"\\n\" * 3,f\"plus an additional {len(long_text)-1500} chars..\")"
      ],
      "metadata": {
        "id": "1EE8CriiaCXj",
        "cellView": "form"
      },
      "execution_count": null,
      "outputs": []
    },
    {
      "cell_type": "markdown",
      "source": [
        "load model.\n"
      ],
      "metadata": {
        "id": "exHQO_PjbaI-"
      }
    },
    {
      "cell_type": "code",
      "source": [
        "#@markdown load model\n",
        "import torch\n",
        "from transformers import pipeline\n",
        "\n",
        "summarizer = pipeline(\n",
        "    \"summarization\",\n",
        "    \"pszemraj/long-t5-tglobal-base-16384-book-summary\",\n",
        "    device=0 if torch.cuda.is_available() else -1,\n",
        ")\n"
      ],
      "metadata": {
        "id": "bphaePDLaPaN",
        "cellView": "form"
      },
      "execution_count": null,
      "outputs": []
    },
    {
      "cell_type": "markdown",
      "source": [
        "summarize!\n"
      ],
      "metadata": {
        "id": "V89SkArFbbeO"
      }
    },
    {
      "cell_type": "code",
      "source": [
        "#@markdown summarization\n",
        "\n",
        "params = {\n",
        "    \"max_length\": 8000,\n",
        "    \"min_length\": 300,\n",
        "    \"no_repeat_ngram_size\": 3,\n",
        "    \"early_stopping\": True,\n",
        "    \"repetition_penalty\": 3.5,\n",
        "    \"length_penalty\": 0.3,\n",
        "    \"encoder_no_repeat_ngram_size\": 3,\n",
        "    \"num_beams\": 4,\n",
        "} # parameters for text generation out of model\n"
      ],
      "metadata": {
        "colab": {
          "base_uri": "https://localhost:8080/",
          "height": 17
        },
        "id": "hx8zHh5wBFbN",
        "outputId": "fd71fe3f-5124-45ea-fc49-f9f7497fa891",
        "cellView": "form"
      },
      "execution_count": null,
      "outputs": [
        {
          "output_type": "display_data",
          "data": {
            "text/plain": [
              "<IPython.core.display.HTML object>"
            ],
            "text/html": [
              "\n",
              "  <style>\n",
              "    pre {\n",
              "        white-space: pre-wrap;\n",
              "    }\n",
              "  </style>\n",
              "  "
            ]
          },
          "metadata": {}
        }
      ]
    },
    {
      "cell_type": "code",
      "source": [
        "#@markdown return output\n",
        "\n",
        "%%time\n",
        "result = summarizer(long_text, **params)\n",
        "\n",
        "print(result[0]['summary_text'])"
      ],
      "metadata": {
        "id": "2tyEjVWBafH5",
        "outputId": "b11b4bb4-cca5-44ef-d1b8-ed15c95897b1",
        "colab": {
          "base_uri": "https://localhost:8080/",
          "height": 17
        },
        "cellView": "form"
      },
      "execution_count": null,
      "outputs": [
        {
          "output_type": "display_data",
          "data": {
            "text/plain": [
              "<IPython.core.display.HTML object>"
            ],
            "text/html": [
              "\n",
              "  <style>\n",
              "    pre {\n",
              "        white-space: pre-wrap;\n",
              "    }\n",
              "  </style>\n",
              "  "
            ]
          },
          "metadata": {}
        }
      ]
    }
  ],
  "metadata": {
    "colab": {
      "provenance": [],
      "include_colab_link": true
    },
    "kernelspec": {
      "display_name": "Python 3",
      "name": "python3"
    },
    "accelerator": "GPU",
    "gpuClass": "standard"
  },
  "nbformat": 4,
  "nbformat_minor": 0
}