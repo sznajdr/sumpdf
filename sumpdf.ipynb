{
  "nbformat": 4,
  "nbformat_minor": 0,
  "metadata": {
    "colab": {
      "provenance": [],
      "authorship_tag": "ABX9TyOydVa2exnjggHyiaZA2QOR",
      "include_colab_link": true
    },
    "kernelspec": {
      "name": "python3",
      "display_name": "Python 3"
    },
    "language_info": {
      "name": "python"
    }
  },
  "cells": [
    {
      "cell_type": "markdown",
      "metadata": {
        "id": "view-in-github",
        "colab_type": "text"
      },
      "source": [
        "<a href=\"https://colab.research.google.com/github/sznajdr/sumpdf/blob/main/sumpdf.ipynb\" target=\"_parent\"><img src=\"https://colab.research.google.com/assets/colab-badge.svg\" alt=\"Open In Colab\"/></a>"
      ]
    },
    {
      "cell_type": "code",
      "execution_count": 1,
      "metadata": {
        "colab": {
          "base_uri": "https://localhost:8080/",
          "height": 34
        },
        "id": "Mr8AJ7HBNAVx",
        "outputId": "b3624ccd-6a03-4fdc-df30-ca3058d65c73",
        "cellView": "form"
      },
      "outputs": [
        {
          "output_type": "stream",
          "name": "stdout",
          "text": [
            "Everything installed.\n"
          ]
        }
      ],
      "source": [
        "#@title packages\n",
        "!pip install Sentencepiece\n",
        "!pip install ipywidgets\n",
        "!pip install pdfplumber transformers\n",
        "import nltk\n",
        "nltk.download('punkt')\n",
        "from IPython.display import clear_output\n",
        "clear_output(wait=True)\n",
        "print(\"Everything installed.\")"
      ]
    },
    {
      "cell_type": "code",
      "source": [
        "#@title upload\n",
        "from google.colab import files\n",
        "\n",
        "uploaded = files.upload()\n",
        "\n",
        "for filename in uploaded.keys():\n",
        "  with open('file.pdf', 'wb') as f:\n",
        "    f.write(uploaded[filename])\n",
        "    from IPython.display import clear_output\n",
        "    clear_output(wait=True)\n",
        "print(\"File uploaded successfully!\")"
      ],
      "metadata": {
        "colab": {
          "base_uri": "https://localhost:8080/",
          "height": 34
        },
        "id": "i0NQB65fNy0M",
        "outputId": "c64de63e-a5e3-4ded-96ca-e895f6701929",
        "cellView": "form"
      },
      "execution_count": 28,
      "outputs": [
        {
          "output_type": "stream",
          "name": "stdout",
          "text": [
            "File uploaded successfully!\n"
          ]
        }
      ]
    },
    {
      "cell_type": "code",
      "source": [
        "#@title seiten auswählen\n",
        "import pdfplumber\n",
        "\n",
        "filename = 'file.pdf'\n",
        "start_page = int(input(\"Enter the start page number: \"))\n",
        "end_page = int(input(\"Enter the end page number: \"))\n",
        "output_filename = input(\"Enter the output filename: \")\n",
        "\n",
        "if not output_filename.endswith('.txt'):\n",
        "    output_filename += '.txt'\n",
        "\n",
        "with pdfplumber.open(filename) as pdf:\n",
        "    all_pages_text = ''\n",
        "    for i, page in enumerate(pdf.pages):\n",
        "        if i+1 >= start_page and i+1 <= end_page:\n",
        "            extracted_text = page.extract_text()\n",
        "            all_pages_text += extracted_text\n",
        "            print(f\"Extracting text from page {i+1}...\")\n",
        "            from IPython.display import clear_output\n",
        "            clear_output(wait=True)\n",
        "    with open(output_filename, 'w') as f:\n",
        "        f.write(all_pages_text)\n",
        "    print(\"Text extraction complete.\")"
      ],
      "metadata": {
        "colab": {
          "base_uri": "https://localhost:8080/"
        },
        "cellView": "form",
        "id": "foGEDUHkRuXb",
        "outputId": "f05745d1-edd9-43ab-9e86-a0afb18cc308"
      },
      "execution_count": 29,
      "outputs": [
        {
          "output_type": "stream",
          "name": "stdout",
          "text": [
            "Text extraction complete.\n"
          ]
        }
      ]
    },
    {
      "cell_type": "code",
      "source": [
        "#@title sum alle\n",
        "import os\n",
        "from transformers import BartTokenizer, BartForConditionalGeneration, BartConfig\n",
        "\n",
        "model = BartForConditionalGeneration.from_pretrained('sshleifer/distilbart-cnn-12-6')\n",
        "tokenizer = BartTokenizer.from_pretrained('sshleifer/distilbart-cnn-12-6')\n",
        "\n",
        "for filename in os.listdir(os.getcwd()):\n",
        "    if filename.endswith('.txt'):\n",
        "        with open(filename, 'r') as f:\n",
        "            text = f.read()\n",
        "\n",
        "        inputs = tokenizer([text], truncation=True, return_tensors='pt')\n",
        "\n",
        "        # Generate Summary\n",
        "        summary_ids = model.generate(inputs['input_ids'], num_beams=10, early_stopping=True, min_length=600, max_length=10024)\n",
        "        summarized_text = ([tokenizer.decode(g, skip_special_tokens=True, clean_up_tokenization_spaces=True) for g in summary_ids])\n",
        "\n",
        "        # Save Summary\n",
        "        output_filename = f\"sum_{filename}\"\n",
        "        with open(output_filename, 'w') as f:\n",
        "            f.write(summarized_text[0])\n",
        "        print(f\"Summary of {filename} saved to {output_filename}\")\n"
      ],
      "metadata": {
        "colab": {
          "base_uri": "https://localhost:8080/"
        },
        "id": "TrOisq4cS17b",
        "outputId": "841296ae-3b47-4306-ef3f-e7499b16377e",
        "cellView": "form"
      },
      "execution_count": null,
      "outputs": [
        {
          "output_type": "stream",
          "name": "stdout",
          "text": [
            "Summary of 15_35.txt saved to sum_15_35.txt\n"
          ]
        }
      ]
    },
    {
      "cell_type": "code",
      "source": [
        "#@title sum auswählen\n",
        "import os\n",
        "from transformers import BartTokenizer, BartForConditionalGeneration, BartConfig\n",
        "\n",
        "model = BartForConditionalGeneration.from_pretrained('sshleifer/distilbart-cnn-12-6')\n",
        "tokenizer = BartTokenizer.from_pretrained('sshleifer/distilbart-cnn-12-6')\n",
        "from IPython.display import clear_output\n",
        "clear_output(wait=True)\n",
        "\n",
        "# Prompt the user to enter the filename of a file in the current working directory\n",
        "filename = input(\"Enter the filename of the file in the current working directory: \")\n",
        "\n",
        "# Check if the file has a .txt extension\n",
        "if not filename.endswith('.txt'):\n",
        "    print(\"Invalid file extension. Please enter the filename of a text file.\")\n",
        "else:\n",
        "    # Check if the file exists in the current working directory\n",
        "    if not os.path.isfile(filename):\n",
        "        print(\"File does not exist in the current working directory.\")\n",
        "    else:\n",
        "        # Read the text from the file\n",
        "        with open(filename, 'r') as f:\n",
        "            text = f.read()\n",
        "\n",
        "        inputs = tokenizer([text], truncation=True, return_tensors='pt')\n",
        "\n",
        "        # Generate Summary\n",
        "        summary_ids = model.generate(inputs['input_ids'], num_beams=33, early_stopping=True, min_length=1400, max_length=8524)\n",
        "        summarized_text = ([tokenizer.decode(g, skip_special_tokens=True, clean_up_tokenization_spaces=True) for g in summary_ids])\n",
        "\n",
        "        # Save Summary\n",
        "        output_filename = f\"sum_{filename}\"\n",
        "        with open(output_filename, 'w') as f:\n",
        "            f.write(summarized_text[0])\n",
        "        print(f\"Summary of {filename} saved to {output_filename}\")\n"
      ],
      "metadata": {
        "id": "vcaMnjARhVT_",
        "colab": {
          "base_uri": "https://localhost:8080/"
        },
        "cellView": "form",
        "outputId": "ef2c968a-8067-459f-8b97-12ab507dd26f"
      },
      "execution_count": 10,
      "outputs": [
        {
          "output_type": "stream",
          "name": "stdout",
          "text": [
            "Enter the filename of the file in the current working directory: alle.txt\n",
            "Summary of alle.txt saved to sum_alle.txt\n"
          ]
        }
      ]
    },
    {
      "cell_type": "code",
      "source": [
        "#@title ***` - ⏏ `*** NLP Lex Rank Summarizer\n",
        "\n",
        "import requests\n",
        "import os\n",
        "from sumy.parsers.plaintext import PlaintextParser\n",
        "from sumy.nlp.tokenizers import Tokenizer\n",
        "from sumy.summarizers.lex_rank import LexRankSummarizer\n",
        "\n",
        "def summarize_file(filename, length):\n",
        "    with open(filename, encoding='utf-8') as file:\n",
        "        text = file.read()\n",
        "    parser = PlaintextParser.from_string(text, Tokenizer(\"english\"))\n",
        "    summarizer = LexRankSummarizer()\n",
        "    summary = summarizer(parser.document, length)\n",
        "    return summary\n",
        "\n",
        "current_directory = os.getcwd()\n",
        "text_files = [f for f in os.listdir(current_directory) if f.endswith(\".txt\")]\n",
        "\n",
        "# create new folders for output and original files\n",
        "if not os.path.exists(\"sums\"):\n",
        "    os.makedirs(\"sums\")\n",
        "if not os.path.exists(\"origs\"):\n",
        "    os.makedirs(\"origs\")\n",
        "\n",
        "for file in text_files:\n",
        "    file_path = os.path.join(current_directory, file)\n",
        "    summary = summarize_file(file_path, 12)\n",
        "    output_filename = f\"sum_{file}\"\n",
        "    output_path = os.path.join(\"sums\", output_filename)\n",
        "    with open(output_path, 'w') as output_file:\n",
        "        for sentence in summary:\n",
        "            output_file.write(f\"{sentence}\\n\")\n",
        "    # move original file to \"origs\" folder\n",
        "    orig_path = os.path.join(\"origs\", file)\n",
        "    os.rename(file_path, orig_path)\n",
        "\n",
        "print(\"Summary complete.\")\n"
      ],
      "metadata": {
        "colab": {
          "base_uri": "https://localhost:8080/"
        },
        "cellView": "form",
        "id": "TVqeMQ8NLXzV",
        "outputId": "782b45fc-7587-43c3-d6dd-5b16ad70fc9c"
      },
      "execution_count": 34,
      "outputs": [
        {
          "output_type": "stream",
          "name": "stdout",
          "text": [
            "Summary complete.\n"
          ]
        }
      ]
    }
  ]
}